{
 "cells": [
  {
   "cell_type": "code",
   "execution_count": 1,
   "metadata": {},
   "outputs": [
    {
     "name": "stdout",
     "output_type": "stream",
     "text": [
      "All records are unique.\n"
     ]
    }
   ],
   "source": [
    "import glob\n",
    "import json\n",
    "\n",
    "records = []\n",
    "for path in glob.glob('\\physicians_20250217.json'):\n",
    "    with open(path, \"r\") as f:\n",
    "        records.extend(json.load(f))\n",
    "\n",
    "seen = set()\n",
    "duplicates = []\n",
    "for rec in records:\n",
    "    rec_str = json.dumps(rec, sort_keys=True)\n",
    "    if rec_str in seen:\n",
    "        duplicates.append(rec)\n",
    "    else:\n",
    "        seen.add(rec_str)\n",
    "\n",
    "if duplicates:\n",
    "    print(\"Found duplicates:\")\n",
    "    for d in duplicates:\n",
    "        print(d)\n",
    "else:\n",
    "    print(\"All records are unique.\")"
   ]
  }
 ],
 "metadata": {
  "kernelspec": {
   "display_name": "Python 3",
   "language": "python",
   "name": "python3"
  },
  "language_info": {
   "codemirror_mode": {
    "name": "ipython",
    "version": 3
   },
   "file_extension": ".py",
   "mimetype": "text/x-python",
   "name": "python",
   "nbconvert_exporter": "python",
   "pygments_lexer": "ipython3",
   "version": "3.10.7"
  }
 },
 "nbformat": 4,
 "nbformat_minor": 2
}
