{
 "cells": [
  {
   "cell_type": "markdown",
   "metadata": {},
   "source": [
    "# All Data related Works are done here"
   ]
  },
  {
   "cell_type": "markdown",
   "metadata": {},
   "source": [
    "## MSA -> ZIP dataset"
   ]
  },
  {
   "cell_type": "code",
   "execution_count": 34,
   "metadata": {},
   "outputs": [
    {
     "name": "stdout",
     "output_type": "stream",
     "text": [
      "Requirement already satisfied: kagglehub in c:\\users\\navee\\appdata\\local\\programs\\python\\python310\\lib\\site-packages (0.3.8)\n",
      "Requirement already satisfied: packaging in c:\\users\\navee\\appdata\\local\\programs\\python\\python310\\lib\\site-packages (from kagglehub) (23.2)\n",
      "Requirement already satisfied: requests in c:\\users\\navee\\appdata\\local\\programs\\python\\python310\\lib\\site-packages (from kagglehub) (2.32.3)\n",
      "Requirement already satisfied: tqdm in c:\\users\\navee\\appdata\\local\\programs\\python\\python310\\lib\\site-packages (from kagglehub) (4.67.1)\n",
      "Requirement already satisfied: charset-normalizer<4,>=2 in c:\\users\\navee\\appdata\\local\\programs\\python\\python310\\lib\\site-packages (from requests->kagglehub) (3.4.0)\n",
      "Requirement already satisfied: idna<4,>=2.5 in c:\\users\\navee\\appdata\\local\\programs\\python\\python310\\lib\\site-packages (from requests->kagglehub) (3.10)\n",
      "Requirement already satisfied: urllib3<3,>=1.21.1 in c:\\users\\navee\\appdata\\local\\programs\\python\\python310\\lib\\site-packages (from requests->kagglehub) (2.2.3)\n",
      "Requirement already satisfied: certifi>=2017.4.17 in c:\\users\\navee\\appdata\\local\\programs\\python\\python310\\lib\\site-packages (from requests->kagglehub) (2024.8.30)\n",
      "Requirement already satisfied: colorama in c:\\users\\navee\\appdata\\local\\programs\\python\\python310\\lib\\site-packages (from tqdm->kagglehub) (0.4.6)\n"
     ]
    },
    {
     "name": "stderr",
     "output_type": "stream",
     "text": [
      "\n",
      "[notice] A new release of pip is available: 24.0 -> 25.0.1\n",
      "[notice] To update, run: python.exe -m pip install --upgrade pip\n"
     ]
    }
   ],
   "source": [
    "!pip install kagglehub"
   ]
  },
  {
   "cell_type": "code",
   "execution_count": 35,
   "metadata": {},
   "outputs": [
    {
     "name": "stdout",
     "output_type": "stream",
     "text": [
      "Path to dataset files: C:\\Users\\navee\\.cache\\kagglehub\\datasets\\haakakak\\msabyzip\\versions\\1\n"
     ]
    }
   ],
   "source": [
    "import kagglehub\n",
    "\n",
    "# Download latest version\n",
    "path = kagglehub.dataset_download(\"haakakak/msabyzip\")\n",
    "\n",
    "print(\"Path to dataset files:\", path)"
   ]
  },
  {
   "cell_type": "code",
   "execution_count": 36,
   "metadata": {},
   "outputs": [],
   "source": [
    "import pandas as pd\n",
    "import sqlite3"
   ]
  },
  {
   "cell_type": "code",
   "execution_count": 37,
   "metadata": {},
   "outputs": [
    {
     "data": {
      "text/plain": [
       "Index(['ZIP', 'STATE', 'MSA', 'County', 'Addr'], dtype='object')"
      ]
     },
     "metadata": {},
     "output_type": "display_data"
    },
    {
     "data": {
      "application/vnd.microsoft.datawrangler.viewer.v0+json": {
       "columns": [
        {
         "name": "index",
         "rawType": "int64",
         "type": "integer"
        },
        {
         "name": "ZIP",
         "rawType": "int64",
         "type": "integer"
        },
        {
         "name": "STATE",
         "rawType": "object",
         "type": "string"
        },
        {
         "name": "MSA",
         "rawType": "float64",
         "type": "float"
        },
        {
         "name": "County",
         "rawType": "float64",
         "type": "float"
        },
        {
         "name": "Addr",
         "rawType": "object",
         "type": "string"
        }
       ],
       "conversionMethod": "pd.DataFrame",
       "ref": "5373ab98-7ae3-4782-886a-d2fa600f5b08",
       "rows": [
        [
         "0",
         "210",
         "NH",
         "14460.0",
         "15.0",
         "Boston-Cambridge-Quincy, MA-NH MSA"
        ],
        [
         "1",
         "211",
         "NH",
         "14460.0",
         "15.0",
         "Boston-Cambridge-Quincy, MA-NH MSA"
        ],
        [
         "2",
         "212",
         "NH",
         "14460.0",
         "15.0",
         "Boston-Cambridge-Quincy, MA-NH MSA"
        ],
        [
         "3",
         "213",
         "NH",
         "14460.0",
         "15.0",
         "Boston-Cambridge-Quincy, MA-NH MSA"
        ],
        [
         "4",
         "214",
         "NH",
         "14460.0",
         "15.0",
         "Boston-Cambridge-Quincy, MA-NH MSA"
        ]
       ],
       "shape": {
        "columns": 5,
        "rows": 5
       }
      },
      "text/html": [
       "<div>\n",
       "<style scoped>\n",
       "    .dataframe tbody tr th:only-of-type {\n",
       "        vertical-align: middle;\n",
       "    }\n",
       "\n",
       "    .dataframe tbody tr th {\n",
       "        vertical-align: top;\n",
       "    }\n",
       "\n",
       "    .dataframe thead th {\n",
       "        text-align: right;\n",
       "    }\n",
       "</style>\n",
       "<table border=\"1\" class=\"dataframe\">\n",
       "  <thead>\n",
       "    <tr style=\"text-align: right;\">\n",
       "      <th></th>\n",
       "      <th>ZIP</th>\n",
       "      <th>STATE</th>\n",
       "      <th>MSA</th>\n",
       "      <th>County</th>\n",
       "      <th>Addr</th>\n",
       "    </tr>\n",
       "  </thead>\n",
       "  <tbody>\n",
       "    <tr>\n",
       "      <th>0</th>\n",
       "      <td>210</td>\n",
       "      <td>NH</td>\n",
       "      <td>14460.0</td>\n",
       "      <td>15.0</td>\n",
       "      <td>Boston-Cambridge-Quincy, MA-NH MSA</td>\n",
       "    </tr>\n",
       "    <tr>\n",
       "      <th>1</th>\n",
       "      <td>211</td>\n",
       "      <td>NH</td>\n",
       "      <td>14460.0</td>\n",
       "      <td>15.0</td>\n",
       "      <td>Boston-Cambridge-Quincy, MA-NH MSA</td>\n",
       "    </tr>\n",
       "    <tr>\n",
       "      <th>2</th>\n",
       "      <td>212</td>\n",
       "      <td>NH</td>\n",
       "      <td>14460.0</td>\n",
       "      <td>15.0</td>\n",
       "      <td>Boston-Cambridge-Quincy, MA-NH MSA</td>\n",
       "    </tr>\n",
       "    <tr>\n",
       "      <th>3</th>\n",
       "      <td>213</td>\n",
       "      <td>NH</td>\n",
       "      <td>14460.0</td>\n",
       "      <td>15.0</td>\n",
       "      <td>Boston-Cambridge-Quincy, MA-NH MSA</td>\n",
       "    </tr>\n",
       "    <tr>\n",
       "      <th>4</th>\n",
       "      <td>214</td>\n",
       "      <td>NH</td>\n",
       "      <td>14460.0</td>\n",
       "      <td>15.0</td>\n",
       "      <td>Boston-Cambridge-Quincy, MA-NH MSA</td>\n",
       "    </tr>\n",
       "  </tbody>\n",
       "</table>\n",
       "</div>"
      ],
      "text/plain": [
       "   ZIP STATE      MSA  County                                Addr\n",
       "0  210    NH  14460.0    15.0  Boston-Cambridge-Quincy, MA-NH MSA\n",
       "1  211    NH  14460.0    15.0  Boston-Cambridge-Quincy, MA-NH MSA\n",
       "2  212    NH  14460.0    15.0  Boston-Cambridge-Quincy, MA-NH MSA\n",
       "3  213    NH  14460.0    15.0  Boston-Cambridge-Quincy, MA-NH MSA\n",
       "4  214    NH  14460.0    15.0  Boston-Cambridge-Quincy, MA-NH MSA"
      ]
     },
     "execution_count": 37,
     "metadata": {},
     "output_type": "execute_result"
    }
   ],
   "source": [
    "df = pd.read_csv(\"./msatozip.csv\")\n",
    "display(df.columns)\n",
    "df.head()"
   ]
  },
  {
   "cell_type": "code",
   "execution_count": 38,
   "metadata": {},
   "outputs": [
    {
     "data": {
      "text/plain": [
       "ZIP        0\n",
       "STATE      0\n",
       "MSA       11\n",
       "County    12\n",
       "Addr      11\n",
       "dtype: int64"
      ]
     },
     "execution_count": 38,
     "metadata": {},
     "output_type": "execute_result"
    }
   ],
   "source": [
    "df.isnull().sum()"
   ]
  },
  {
   "cell_type": "code",
   "execution_count": 39,
   "metadata": {},
   "outputs": [
    {
     "data": {
      "text/plain": [
       "ZIP       0\n",
       "STATE     0\n",
       "MSA       0\n",
       "County    0\n",
       "Addr      0\n",
       "dtype: int64"
      ]
     },
     "execution_count": 39,
     "metadata": {},
     "output_type": "execute_result"
    }
   ],
   "source": [
    "df.dropna(inplace=True)\n",
    "df.isnull().sum()"
   ]
  },
  {
   "cell_type": "code",
   "execution_count": 46,
   "metadata": {},
   "outputs": [],
   "source": [
    "df[['County', 'MSA', \"ZIP\"]] = df[['County', 'MSA', \"ZIP\"]].astype(pd.Int64Dtype())"
   ]
  },
  {
   "cell_type": "code",
   "execution_count": 47,
   "metadata": {},
   "outputs": [
    {
     "data": {
      "application/vnd.microsoft.datawrangler.viewer.v0+json": {
       "columns": [
        {
         "name": "index",
         "rawType": "object",
         "type": "string"
        },
        {
         "name": "ZIP",
         "rawType": "Float64",
         "type": "float"
        },
        {
         "name": "MSA",
         "rawType": "Float64",
         "type": "float"
        },
        {
         "name": "County",
         "rawType": "Float64",
         "type": "float"
        }
       ],
       "conversionMethod": "pd.DataFrame",
       "ref": "feb5bf30-be15-48d9-ab28-22dc150ee881",
       "rows": [
        [
         "count",
         "43496.0",
         "43496.0",
         "43496.0"
        ],
        [
         "mean",
         "49387.93238458709",
         "57470.01335755012",
         "95.37026393231561"
        ],
        [
         "std",
         "28241.042001692374",
         "35275.97242164502",
         "114.35435675087315"
        ],
        [
         "min",
         "210.0",
         "0.0",
         "1.0"
        ],
        [
         "25%",
         "25384.0",
         "28100.0",
         "29.0"
        ],
        [
         "50%",
         "48504.5",
         "41940.0",
         "67.0"
        ],
        [
         "75%",
         "73077.25",
         "99022.0",
         "117.0"
        ],
        [
         "max",
         "99950.0",
         "99078.0",
         "840.0"
        ]
       ],
       "shape": {
        "columns": 3,
        "rows": 8
       }
      },
      "text/html": [
       "<div>\n",
       "<style scoped>\n",
       "    .dataframe tbody tr th:only-of-type {\n",
       "        vertical-align: middle;\n",
       "    }\n",
       "\n",
       "    .dataframe tbody tr th {\n",
       "        vertical-align: top;\n",
       "    }\n",
       "\n",
       "    .dataframe thead th {\n",
       "        text-align: right;\n",
       "    }\n",
       "</style>\n",
       "<table border=\"1\" class=\"dataframe\">\n",
       "  <thead>\n",
       "    <tr style=\"text-align: right;\">\n",
       "      <th></th>\n",
       "      <th>ZIP</th>\n",
       "      <th>MSA</th>\n",
       "      <th>County</th>\n",
       "    </tr>\n",
       "  </thead>\n",
       "  <tbody>\n",
       "    <tr>\n",
       "      <th>count</th>\n",
       "      <td>43496.0</td>\n",
       "      <td>43496.0</td>\n",
       "      <td>43496.0</td>\n",
       "    </tr>\n",
       "    <tr>\n",
       "      <th>mean</th>\n",
       "      <td>49387.932385</td>\n",
       "      <td>57470.013358</td>\n",
       "      <td>95.370264</td>\n",
       "    </tr>\n",
       "    <tr>\n",
       "      <th>std</th>\n",
       "      <td>28241.042002</td>\n",
       "      <td>35275.972422</td>\n",
       "      <td>114.354357</td>\n",
       "    </tr>\n",
       "    <tr>\n",
       "      <th>min</th>\n",
       "      <td>210.0</td>\n",
       "      <td>0.0</td>\n",
       "      <td>1.0</td>\n",
       "    </tr>\n",
       "    <tr>\n",
       "      <th>25%</th>\n",
       "      <td>25384.0</td>\n",
       "      <td>28100.0</td>\n",
       "      <td>29.0</td>\n",
       "    </tr>\n",
       "    <tr>\n",
       "      <th>50%</th>\n",
       "      <td>48504.5</td>\n",
       "      <td>41940.0</td>\n",
       "      <td>67.0</td>\n",
       "    </tr>\n",
       "    <tr>\n",
       "      <th>75%</th>\n",
       "      <td>73077.25</td>\n",
       "      <td>99022.0</td>\n",
       "      <td>117.0</td>\n",
       "    </tr>\n",
       "    <tr>\n",
       "      <th>max</th>\n",
       "      <td>99950.0</td>\n",
       "      <td>99078.0</td>\n",
       "      <td>840.0</td>\n",
       "    </tr>\n",
       "  </tbody>\n",
       "</table>\n",
       "</div>"
      ],
      "text/plain": [
       "                ZIP           MSA      County\n",
       "count       43496.0       43496.0     43496.0\n",
       "mean   49387.932385  57470.013358   95.370264\n",
       "std    28241.042002  35275.972422  114.354357\n",
       "min           210.0           0.0         1.0\n",
       "25%         25384.0       28100.0        29.0\n",
       "50%         48504.5       41940.0        67.0\n",
       "75%        73077.25       99022.0       117.0\n",
       "max         99950.0       99078.0       840.0"
      ]
     },
     "metadata": {},
     "output_type": "display_data"
    },
    {
     "name": "stdout",
     "output_type": "stream",
     "text": [
      "<class 'pandas.core.frame.DataFrame'>\n",
      "Index: 43496 entries, 0 to 43507\n",
      "Data columns (total 5 columns):\n",
      " #   Column  Non-Null Count  Dtype \n",
      "---  ------  --------------  ----- \n",
      " 0   ZIP     43496 non-null  Int64 \n",
      " 1   STATE   43496 non-null  object\n",
      " 2   MSA     43496 non-null  Int64 \n",
      " 3   County  43496 non-null  Int64 \n",
      " 4   Addr    43496 non-null  object\n",
      "dtypes: Int64(3), object(2)\n",
      "memory usage: 2.1+ MB\n"
     ]
    },
    {
     "data": {
      "text/plain": [
       "None"
      ]
     },
     "metadata": {},
     "output_type": "display_data"
    }
   ],
   "source": [
    "display(df.describe())\n",
    "display(df.info())"
   ]
  },
  {
   "cell_type": "code",
   "execution_count": 48,
   "metadata": {},
   "outputs": [
    {
     "data": {
      "text/plain": [
       "43496"
      ]
     },
     "execution_count": 48,
     "metadata": {},
     "output_type": "execute_result"
    }
   ],
   "source": [
    "conn = sqlite3.connect('msatozip.db')\n",
    "df.to_sql('data_table', conn, if_exists='replace', index=False)"
   ]
  },
  {
   "cell_type": "code",
   "execution_count": 49,
   "metadata": {},
   "outputs": [
    {
     "data": {
      "application/vnd.microsoft.datawrangler.viewer.v0+json": {
       "columns": [
        {
         "name": "index",
         "rawType": "int64",
         "type": "integer"
        },
        {
         "name": "ZIP",
         "rawType": "int64",
         "type": "integer"
        },
        {
         "name": "STATE",
         "rawType": "object",
         "type": "string"
        },
        {
         "name": "MSA",
         "rawType": "int64",
         "type": "integer"
        },
        {
         "name": "County",
         "rawType": "int64",
         "type": "integer"
        },
        {
         "name": "Addr",
         "rawType": "object",
         "type": "string"
        }
       ],
       "conversionMethod": "pd.DataFrame",
       "ref": "e5d75069-c0b6-426f-95f4-911e9c3a72ec",
       "rows": [
        [
         "0",
         "210",
         "NH",
         "14460",
         "15",
         "Boston-Cambridge-Quincy, MA-NH MSA"
        ],
        [
         "1",
         "211",
         "NH",
         "14460",
         "15",
         "Boston-Cambridge-Quincy, MA-NH MSA"
        ],
        [
         "2",
         "212",
         "NH",
         "14460",
         "15",
         "Boston-Cambridge-Quincy, MA-NH MSA"
        ],
        [
         "3",
         "213",
         "NH",
         "14460",
         "15",
         "Boston-Cambridge-Quincy, MA-NH MSA"
        ],
        [
         "4",
         "214",
         "NH",
         "14460",
         "15",
         "Boston-Cambridge-Quincy, MA-NH MSA"
        ],
        [
         "5",
         "215",
         "NH",
         "14460",
         "15",
         "Boston-Cambridge-Quincy, MA-NH MSA"
        ],
        [
         "6",
         "501",
         "NY",
         "35620",
         "103",
         "New York-Northern New Jersey-Long Island, NY-NJ-PA MSA"
        ],
        [
         "7",
         "544",
         "NY",
         "35620",
         "103",
         "New York-Northern New Jersey-Long Island, NY-NJ-PA MSA"
        ],
        [
         "8",
         "601",
         "PR",
         "99072",
         "1",
         "PR NONMETROPOLITAN AREA"
        ],
        [
         "9",
         "602",
         "PR",
         "10380",
         "3",
         "Aguadilla-Isabela-San Sebastian, PR MSA"
        ]
       ],
       "shape": {
        "columns": 5,
        "rows": 10
       }
      },
      "text/html": [
       "<div>\n",
       "<style scoped>\n",
       "    .dataframe tbody tr th:only-of-type {\n",
       "        vertical-align: middle;\n",
       "    }\n",
       "\n",
       "    .dataframe tbody tr th {\n",
       "        vertical-align: top;\n",
       "    }\n",
       "\n",
       "    .dataframe thead th {\n",
       "        text-align: right;\n",
       "    }\n",
       "</style>\n",
       "<table border=\"1\" class=\"dataframe\">\n",
       "  <thead>\n",
       "    <tr style=\"text-align: right;\">\n",
       "      <th></th>\n",
       "      <th>ZIP</th>\n",
       "      <th>STATE</th>\n",
       "      <th>MSA</th>\n",
       "      <th>County</th>\n",
       "      <th>Addr</th>\n",
       "    </tr>\n",
       "  </thead>\n",
       "  <tbody>\n",
       "    <tr>\n",
       "      <th>0</th>\n",
       "      <td>210</td>\n",
       "      <td>NH</td>\n",
       "      <td>14460</td>\n",
       "      <td>15</td>\n",
       "      <td>Boston-Cambridge-Quincy, MA-NH MSA</td>\n",
       "    </tr>\n",
       "    <tr>\n",
       "      <th>1</th>\n",
       "      <td>211</td>\n",
       "      <td>NH</td>\n",
       "      <td>14460</td>\n",
       "      <td>15</td>\n",
       "      <td>Boston-Cambridge-Quincy, MA-NH MSA</td>\n",
       "    </tr>\n",
       "    <tr>\n",
       "      <th>2</th>\n",
       "      <td>212</td>\n",
       "      <td>NH</td>\n",
       "      <td>14460</td>\n",
       "      <td>15</td>\n",
       "      <td>Boston-Cambridge-Quincy, MA-NH MSA</td>\n",
       "    </tr>\n",
       "    <tr>\n",
       "      <th>3</th>\n",
       "      <td>213</td>\n",
       "      <td>NH</td>\n",
       "      <td>14460</td>\n",
       "      <td>15</td>\n",
       "      <td>Boston-Cambridge-Quincy, MA-NH MSA</td>\n",
       "    </tr>\n",
       "    <tr>\n",
       "      <th>4</th>\n",
       "      <td>214</td>\n",
       "      <td>NH</td>\n",
       "      <td>14460</td>\n",
       "      <td>15</td>\n",
       "      <td>Boston-Cambridge-Quincy, MA-NH MSA</td>\n",
       "    </tr>\n",
       "    <tr>\n",
       "      <th>5</th>\n",
       "      <td>215</td>\n",
       "      <td>NH</td>\n",
       "      <td>14460</td>\n",
       "      <td>15</td>\n",
       "      <td>Boston-Cambridge-Quincy, MA-NH MSA</td>\n",
       "    </tr>\n",
       "    <tr>\n",
       "      <th>6</th>\n",
       "      <td>501</td>\n",
       "      <td>NY</td>\n",
       "      <td>35620</td>\n",
       "      <td>103</td>\n",
       "      <td>New York-Northern New Jersey-Long Island, NY-N...</td>\n",
       "    </tr>\n",
       "    <tr>\n",
       "      <th>7</th>\n",
       "      <td>544</td>\n",
       "      <td>NY</td>\n",
       "      <td>35620</td>\n",
       "      <td>103</td>\n",
       "      <td>New York-Northern New Jersey-Long Island, NY-N...</td>\n",
       "    </tr>\n",
       "    <tr>\n",
       "      <th>8</th>\n",
       "      <td>601</td>\n",
       "      <td>PR</td>\n",
       "      <td>99072</td>\n",
       "      <td>1</td>\n",
       "      <td>PR NONMETROPOLITAN AREA</td>\n",
       "    </tr>\n",
       "    <tr>\n",
       "      <th>9</th>\n",
       "      <td>602</td>\n",
       "      <td>PR</td>\n",
       "      <td>10380</td>\n",
       "      <td>3</td>\n",
       "      <td>Aguadilla-Isabela-San Sebastian, PR MSA</td>\n",
       "    </tr>\n",
       "  </tbody>\n",
       "</table>\n",
       "</div>"
      ],
      "text/plain": [
       "   ZIP STATE    MSA  County                                               Addr\n",
       "0  210    NH  14460      15                 Boston-Cambridge-Quincy, MA-NH MSA\n",
       "1  211    NH  14460      15                 Boston-Cambridge-Quincy, MA-NH MSA\n",
       "2  212    NH  14460      15                 Boston-Cambridge-Quincy, MA-NH MSA\n",
       "3  213    NH  14460      15                 Boston-Cambridge-Quincy, MA-NH MSA\n",
       "4  214    NH  14460      15                 Boston-Cambridge-Quincy, MA-NH MSA\n",
       "5  215    NH  14460      15                 Boston-Cambridge-Quincy, MA-NH MSA\n",
       "6  501    NY  35620     103  New York-Northern New Jersey-Long Island, NY-N...\n",
       "7  544    NY  35620     103  New York-Northern New Jersey-Long Island, NY-N...\n",
       "8  601    PR  99072       1                            PR NONMETROPOLITAN AREA\n",
       "9  602    PR  10380       3            Aguadilla-Isabela-San Sebastian, PR MSA"
      ]
     },
     "execution_count": 49,
     "metadata": {},
     "output_type": "execute_result"
    }
   ],
   "source": [
    "df_first_10 = pd.read_sql_query(\"SELECT * FROM data_table LIMIT 10\", conn)\n",
    "df_first_10"
   ]
  },
  {
   "cell_type": "code",
   "execution_count": 50,
   "metadata": {},
   "outputs": [
    {
     "data": {
      "application/vnd.microsoft.datawrangler.viewer.v0+json": {
       "columns": [
        {
         "name": "index",
         "rawType": "int64",
         "type": "integer"
        },
        {
         "name": "msa count",
         "rawType": "int64",
         "type": "integer"
        },
        {
         "name": "state count",
         "rawType": "int64",
         "type": "integer"
        },
        {
         "name": "county count",
         "rawType": "int64",
         "type": "integer"
        },
        {
         "name": "zipcode count",
         "rawType": "int64",
         "type": "integer"
        }
       ],
       "conversionMethod": "pd.DataFrame",
       "ref": "428c8b33-3030-4af8-a178-0c4877502713",
       "rows": [
        [
         "0",
         "426",
         "62",
         "328",
         "43496"
        ]
       ],
       "shape": {
        "columns": 4,
        "rows": 1
       }
      },
      "text/html": [
       "<div>\n",
       "<style scoped>\n",
       "    .dataframe tbody tr th:only-of-type {\n",
       "        vertical-align: middle;\n",
       "    }\n",
       "\n",
       "    .dataframe tbody tr th {\n",
       "        vertical-align: top;\n",
       "    }\n",
       "\n",
       "    .dataframe thead th {\n",
       "        text-align: right;\n",
       "    }\n",
       "</style>\n",
       "<table border=\"1\" class=\"dataframe\">\n",
       "  <thead>\n",
       "    <tr style=\"text-align: right;\">\n",
       "      <th></th>\n",
       "      <th>msa count</th>\n",
       "      <th>state count</th>\n",
       "      <th>county count</th>\n",
       "      <th>zipcode count</th>\n",
       "    </tr>\n",
       "  </thead>\n",
       "  <tbody>\n",
       "    <tr>\n",
       "      <th>0</th>\n",
       "      <td>426</td>\n",
       "      <td>62</td>\n",
       "      <td>328</td>\n",
       "      <td>43496</td>\n",
       "    </tr>\n",
       "  </tbody>\n",
       "</table>\n",
       "</div>"
      ],
      "text/plain": [
       "   msa count  state count  county count  zipcode count\n",
       "0        426           62           328          43496"
      ]
     },
     "execution_count": 50,
     "metadata": {},
     "output_type": "execute_result"
    }
   ],
   "source": [
    "pd.read_sql_query(\"SELECT COUNT(DISTINCT msa) as 'msa count', count(distinct state) as 'state count', count(distinct county) as 'county count', count(distinct zip) as 'zipcode count' FROM data_table\", conn)"
   ]
  },
  {
   "cell_type": "code",
   "execution_count": 51,
   "metadata": {},
   "outputs": [],
   "source": [
    "conn.close()"
   ]
  }
 ],
 "metadata": {
  "kernelspec": {
   "display_name": "Python 3",
   "language": "python",
   "name": "python3"
  },
  "language_info": {
   "codemirror_mode": {
    "name": "ipython",
    "version": 3
   },
   "file_extension": ".py",
   "mimetype": "text/x-python",
   "name": "python",
   "nbconvert_exporter": "python",
   "pygments_lexer": "ipython3",
   "version": "3.10.7"
  }
 },
 "nbformat": 4,
 "nbformat_minor": 2
}
